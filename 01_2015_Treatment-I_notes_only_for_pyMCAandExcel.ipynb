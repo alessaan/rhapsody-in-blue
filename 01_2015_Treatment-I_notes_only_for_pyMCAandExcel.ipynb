{
 "cells": [
  {
   "cell_type": "markdown",
   "metadata": {},
   "source": [
    "# **2015 Data, Treatment I**\n",
    "***Objective:* prepare individual XANES spectra from pastello-separated lazurite for across-sample comparisons **"
   ]
  },
  {
   "cell_type": "markdown",
   "metadata": {},
   "source": [
    "## Treatment Ia:\n",
    "***Objective:* normalization of each individual XANES spectra per sample**\n",
    "\n",
    "### Program: \n",
    "[PyMca 5.4.0] (http://pymca.sourceforge.net/)\n",
    "\n",
    "### Input: \n",
    "- raw macro XRF mode XANES spectra, type = .dat, [dataset11] ()\n",
    "> 15092501.dat <br> - P-020 = scan #s 123, 129, 135 <br> - P-415 = scan #s 141, 147, 153 <br> - P-600 = scan #s 159, 165, 171 <br> - P-750 = scan #s 179, 185, 191\n",
    "\n",
    "### Steps:\n",
    "- plotted spectra from each sample\n",
    "    - x = arr_energyM\n",
    "    - y = arr_absorp3  (where absorp3 = dsp1(S)/iodet)\n",
    "- normalized spectra\n",
    "    - averaged spectra per sample\n",
    "    - choose normalization parameters\n",
    "    - reselected individual spectra\n",
    "    - performed normalization on individual spectra\n",
    "- copied individual normalized spectra to clipboard\n",
    "\n",
    "### Output:\n",
    "- the copied individual normalized spectra to clipboard (not saved)"
   ]
  },
  {
   "cell_type": "markdown",
   "metadata": {},
   "source": [
    "## Treatment Ib:\n",
    "***Objective:* averaging of normalized XANES spectra over three spots of analysis per sample and shifting of energy axis to make data comparable across beamtimes (shift to match 2017 beamtime)**\n",
    "\n",
    "### Program: \n",
    "[Excel] (Office365)\n",
    "\n",
    "### Input: \n",
    "- the copied individual normalized spectra on clipboard\n",
    "    - excel file = 2015_TreatmentI.xlsx\n",
    "    \n",
    "### Steps:\n",
    "- pasted copied normalized spectra from clipboard\n",
    "- averaged 3 spectra per sample (along the y-axis, ie normalized intensity)\n",
    "- shifted the energy values (ie x-axis) to match those of the 2017-beamtime, determined based on position of pre-peak\n",
    "    - pre-peak position in 2015 data = **2468.78 eV**\n",
    "    - pre-peak position in 2017 data = **2469.00 eV**\n",
    "    - therefore, shifted 2015 energies by 2469.00 - 2468.78 = **+0.22 eV**\n",
    "- saved average intensities vs. corrected energy as .txt (tab-delimited) for each sample, [dataset12]\n",
    "    - axes labels = (energy_cor, average)\n",
    "\n",
    "### Output:\n",
    "- averaged normalized spectra, type = .txt, [dataset12] ()\n",
    "> 2015_avg_P020.txt <br> 2015_avg_P415.txt <br> 2015_avg_P600.txt <br> 2015_avg_P750.txt"
   ]
  },
  {
   "cell_type": "markdown",
   "metadata": {},
   "source": [
    "### end"
   ]
  }
 ],
 "metadata": {
  "kernelspec": {
   "display_name": "Python 3",
   "language": "python",
   "name": "python3"
  },
  "language_info": {
   "codemirror_mode": {
    "name": "ipython",
    "version": 3
   },
   "file_extension": ".py",
   "mimetype": "text/x-python",
   "name": "python",
   "nbconvert_exporter": "python",
   "pygments_lexer": "ipython3",
   "version": "3.6.5"
  }
 },
 "nbformat": 4,
 "nbformat_minor": 2
}
