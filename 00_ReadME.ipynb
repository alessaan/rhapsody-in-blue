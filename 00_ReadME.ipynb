{
 "cells": [
  {
   "cell_type": "markdown",
   "metadata": {},
   "source": [
    "# Python notebook descriptions\n",
    "## - The following set of notebooks treat the data and produce the final outputs for the Figures in the paper.\n",
    "## - This notebook summarizes the data produced with each treatment python notebook"
   ]
  },
  {
   "cell_type": "markdown",
   "metadata": {},
   "source": [
    "# Download the following datasets from ()\n",
    "> Dataset_11 <br> Dataset_21 <br> Dataset_31 <br> Dataset_41"
   ]
  },
  {
   "cell_type": "markdown",
   "metadata": {},
   "source": [
    "# Run the next cells to make the folder structure for the datasets produced with each python sheet"
   ]
  },
  {
   "cell_type": "code",
   "execution_count": 4,
   "metadata": {},
   "outputs": [],
   "source": [
    "mkdir dataset_12"
   ]
  },
  {
   "cell_type": "code",
   "execution_count": null,
   "metadata": {},
   "outputs": [],
   "source": [
    "mkdir dataset_22"
   ]
  },
  {
   "cell_type": "code",
   "execution_count": null,
   "metadata": {},
   "outputs": [],
   "source": [
    "mkdir dataset_23"
   ]
  },
  {
   "cell_type": "code",
   "execution_count": null,
   "metadata": {},
   "outputs": [],
   "source": [
    "mkdir dataset_24"
   ]
  },
  {
   "cell_type": "code",
   "execution_count": null,
   "metadata": {},
   "outputs": [],
   "source": [
    "mkdir dataset_25"
   ]
  },
  {
   "cell_type": "code",
   "execution_count": null,
   "metadata": {},
   "outputs": [],
   "source": [
    "mkdir dataset_26"
   ]
  },
  {
   "cell_type": "code",
   "execution_count": null,
   "metadata": {},
   "outputs": [],
   "source": [
    "mkdir dataset_27"
   ]
  },
  {
   "cell_type": "code",
   "execution_count": null,
   "metadata": {},
   "outputs": [],
   "source": [
    "mkdir dataset_28"
   ]
  },
  {
   "cell_type": "code",
   "execution_count": null,
   "metadata": {},
   "outputs": [],
   "source": [
    "mkdir dataset_29"
   ]
  },
  {
   "cell_type": "code",
   "execution_count": null,
   "metadata": {},
   "outputs": [],
   "source": [
    "mkdir dataset_32"
   ]
  },
  {
   "cell_type": "code",
   "execution_count": null,
   "metadata": {},
   "outputs": [],
   "source": [
    "mkdir dataset_33"
   ]
  },
  {
   "cell_type": "code",
   "execution_count": null,
   "metadata": {},
   "outputs": [],
   "source": [
    "mkdir dataset_42"
   ]
  },
  {
   "cell_type": "code",
   "execution_count": null,
   "metadata": {},
   "outputs": [],
   "source": [
    "mkdir dataset_43"
   ]
  },
  {
   "cell_type": "markdown",
   "metadata": {},
   "source": [
    "# Below are Dataset Descriptions"
   ]
  },
  {
   "cell_type": "markdown",
   "metadata": {},
   "source": [
    "## Dataset_11\n",
    "> 15092501.dat <br> \n",
    "- 'P-020' = scan #s 123, 129, 135 <br> \n",
    "- 'P-415' = scan #s 141, 147, 153 <br> \n",
    "- 'P-600' = scan #s 159, 165, 171 <br> \n",
    "- 'P-750' = scan #s 179, 185, 191 <br> <br> *filename consistent with that at ESRF*\n",
    "\n",
    "### @WOUT: is there a way to separate these out into its own raw .dat file?"
   ]
  },
  {
   "cell_type": "markdown",
   "metadata": {},
   "source": [
    "## Dataset_12\n",
    "> 2015_avg_P020.txt <br> 2015_avg_P415.txt <br> 2015_avg_P600.txt <br> 2015_avg_P750.txt"
   ]
  },
  {
   "cell_type": "markdown",
   "metadata": {},
   "source": [
    "## Dataset_21\n",
    "> 20Vpow_1.h5 <br> 415pow_1.hf <br> 600Vpow_1.h5 <br> 750Vpow_1.h5 <br> 20VoilL4.h5 <br> 750VL4.h5 <br> <br> *filenames consistent with those at ESRF*"
   ]
  },
  {
   "cell_type": "markdown",
   "metadata": {},
   "source": [
    "## Dataset_22\n",
    "> H020_norm.hdf <br> H415_norm.hdf <br> H600_norm.hdf <br> H750_norm.hdf <br> H020oilL4_norm.hdf <br> H750oilL4_norm.hdf"
   ]
  },
  {
   "cell_type": "markdown",
   "metadata": {},
   "source": [
    "## Dataset_x\n",
    "> H020_energy_1.csv"
   ]
  },
  {
   "cell_type": "markdown",
   "metadata": {},
   "source": [
    "## Dataset_23\n",
    "> mean_value_H020_norm_'date'.png <br> mean_value_H415_norm_'date'.png <br> mean_value_600Vpow_1_'date'.png <br> mean_value_H750_norm_'date'.png <br> mean_value_H020oilL4_norm_'date'.png <br> mean_value_H750oilL4_norm_'date'.png"
   ]
  },
  {
   "cell_type": "markdown",
   "metadata": {},
   "source": [
    "## Dataset_24\n",
    "> mask_mean_value_H020_norm_'date'.png <br> mask_mean_value_H415_norm_'date'.png <br> mask_mean_value_600Vpow_1_'date'.png <br> mask_mean_value_H750_norm_'date'.png <br> mask_mean_value_H020oilL4_norm_'date'.png <br> mask_mean_value_H750oilL4_norm_'date'.png"
   ]
  },
  {
   "cell_type": "markdown",
   "metadata": {},
   "source": [
    "## Dataset_25\n",
    "> H020_norm_wanted_particles_average_'date'.txt <br> H415_norm_wanted_particles_average_'date'.txt <br> H600_norm_wanted_particles_average_'date'.txt <br> H750_norm_wanted_particles_average_'date'.txt <br> H020oilL4_norm_wanted_particles_average_'date'.txt <br> H750oilL4_norm_wanted_particles_average_'date'.txt <br> \n"
   ]
  },
  {
   "cell_type": "markdown",
   "metadata": {},
   "source": [
    "## Dataset_26\n",
    "> NMF_H750fit_3components_'date'_0.pdf"
   ]
  },
  {
   "cell_type": "markdown",
   "metadata": {},
   "source": [
    "## Dataset_27\n",
    "> NMF_H750fit_com_of_3_'date'_0.png"
   ]
  },
  {
   "cell_type": "markdown",
   "metadata": {},
   "source": [
    "## Dataset_28 \n",
    "> H750_norm_diff31_of_3_'date'_0.svgf <br> \n",
    "H650_norm_diff31_of_3_'date'_0.svg <br> \n",
    "H415_norm_diff31_of_3_'date'_0.svg <br> \n",
    "H020_norm_diff31_of_3_'date'_0.svg <br> \n",
    "H750oilL4_norm_diff31_of_3_'date'_0.svg <br> \n",
    "H750oilL4_norm_diff31_of_3_'date'_0.svg"
   ]
  },
  {
   "cell_type": "markdown",
   "metadata": {},
   "source": [
    "## Dataset_29\n",
    "> spec_H750_norm_diff31_of_3_'date'_0.svg <br> \n",
    "spec_H650_norm_diff31_of_3_'date'_0.svg <br> \n",
    "spec_H415_norm_diff31_of_3_'date'_0.svg <br> \n",
    "spec_H020_norm_diff31_of_3_'date'_0.svg <br> \n",
    "\n",
    "> H750_norm_1st_'date'_cursors_um_0 <br>\n",
    "H750_norm_2nd_'date'_cursors_um_0.svg <br>\n",
    "H750_norm_3rd_'date'_cursors_um_0.svg <br>\n",
    "H750_norm_4th_'date'_cursors_um_0.svg <br>\n",
    "H600_norm_1st_'date'_cursors_um_0.svg <br>\n",
    "H600_norm_2nd_'date'_cursors_um_0.svg <br>\n",
    "H415_norm_1st_'date'_cursors_um_0.svg <br>\n",
    "H415_norm_2nd_'date'_cursors_um_0.svg <br>\n",
    "H020_norm_1st_'date'_cursors_um_0.svg <br>\n",
    "H020_norm_2nd_'date'_cursors_um_0.svg <br>"
   ]
  },
  {
   "cell_type": "markdown",
   "metadata": {},
   "source": [
    "## Dataset_31\n",
    "> allfiles_hg94.h5 <br>\n",
    "- 'MH0170_5_att' = scan #s 133 - 150 <br>\n",
    "*note:* mislabeled in .h5 as 'SKA2845_2_att' <br>\n",
    "- 'SKA2102_8_att' = scan #s 190 - 222 <br> \n",
    "*note:* mislabeled in .h5 as 'SKA2845_2_att'"
   ]
  },
  {
   "cell_type": "markdown",
   "metadata": {},
   "source": [
    "## Dataset_32\n",
    "> c_2017_MH0170_5_133_150.dat <br> c_2017_SKA2102_8_190_222.dat"
   ]
  },
  {
   "cell_type": "markdown",
   "metadata": {},
   "source": [
    "## Dataset_33\n",
    "> c_2017_MH0170_5_vals_133to137_1.csv <br> \n",
    "c_2017_MH0170_5_vals_138to140_1.csv <br>\n",
    "c_2017_MH0170_5_vals_141to142_1.csv <br>\n",
    "c_2017_MH0170_5_vals_143to145_1.csv <br>\n",
    "c_2017_MH0170_5_vals_146to148_1.csv <br>\n",
    "c_2017_MH0170_5_vals_149to150_1.csv <br> <br>\n",
    "c_2017_SKA2102_8_vals_190to191_1.csv <br>\n",
    "c_2017_SKA2102_8_vals_192to193_1.csv <br>\n",
    "c_2017_SKA2102_8_vals_194to195_1.csv <br>\n",
    "c_2017_SKA2102_8_vals_196to198_1.csv <br>\n",
    "c_2017_SKA2102_8_vals_199to202_1.csv <br>\n",
    "c_2017_SKA2102_8_vals_203only_1.csv <br>\n",
    "c_2017_SKA2102_8_vals_204to207_1.csv <br>\n",
    "c_2017_SKA2102_8_vals_208to212_1.csv <br>\n",
    "c_2017_SKA2102_8_vals_213to215_1.csv <br>\n",
    "c_2017_SKA2102_8_vals_216to217_1.csv <br>\n",
    "c_2017_SKA2102_8_vals_218to219_1.csv <br>\n",
    "c_2017_SKA2102_8_vals_220to222_1.csv"
   ]
  },
  {
   "cell_type": "markdown",
   "metadata": {},
   "source": [
    "## Dataset_41\n",
    "> allfiles_hg139_2.h5 <br>\n",
    "- 'MH0264X07b_att' = scan #s 003 - 060 <br>\n",
    "- 'S18500_att' = scan #s 002 - 051 <br> \n",
    "- 'S18506_att' = scan #s 002 - 059 <br> "
   ]
  },
  {
   "cell_type": "markdown",
   "metadata": {},
   "source": [
    "## Dataset_42\n",
    "> c_2018_MH0264X07b_003_060.dat <br> c_2018_S18500_002_051.dat <br> c_2018_S18506_002_059.dat"
   ]
  },
  {
   "cell_type": "markdown",
   "metadata": {},
   "source": [
    "## Dataset_43\n",
    "> c_2018_MH0264X07b_vals_003to011not008_1.csv <br>\n",
    "c_2018_MH0264X07b_vals_012to018_1.csv <br>\n",
    "c_2018_MH0264X07b_vals_019to022_1.csv <br>\n",
    "c_2018_MH0264X07b_vals_023to025_1.csv <br>\n",
    "c_2018_MH0264X07b_vals_026to031_1.csv <br>\n",
    "c_2018_MH0264X07b_vals_032to033_1.csv <br>\n",
    "c_2018_MH0264X07b_vals_034to037_1.csv <br>\n",
    "c_2018_MH0264X07b_vals_038to039_1.csv <br>\n",
    "c_2018_MH0264X07b_vals_040only_1.csv <br>\n",
    "c_2018_MH0264X07b_vals_041only_1.csv <br>\n",
    "c_2018_MH0264X07b_vals_042to045_1.csv <br>\n",
    "c_2018_MH0264X07b_vals_046to049_1.csv <br>\n",
    "c_2018_MH0264X07b_vals_050to054_1.csv <br>\n",
    "c_2018_MH0264X07b_vals_055to057_1.csv <br> <br>\n",
    "c_2018_S18500_vals_002to003_1.csv <br>\n",
    "c_2018_S18500_vals_004to010_1.csv <br>\n",
    "c_2018_S18500_vals_011to013_1.csv <br>\n",
    "c_2018_S18500_vals_014to016_1.csv <br>\n",
    "c_2018_S18500_vals_017to024_1.csv <br>\n",
    "c_2018_S18500_vals_025to027_1.csv <br>\n",
    "c_2018_S18500_vals_028to031_1.csv <br>\n",
    "c_2018_S18500_vals_032_033_1.csv <br>\n",
    "c_2018_S18500_vals_034to039_1.csv <br>\n",
    "c_2018_S18500_vals_040_041_1.csv <br>\n",
    "c_2018_S18500_vals_042_043_051_1.csv <br>\n",
    "c_2018_S18500_vals_044_045_1.csv <br>\n",
    "c_2018_S18500_vals_046only_1.csv <br>\n",
    "c_2018_S18500_vals_046to047_1.csv <br>\n",
    "c_2018_S18500_vals_048to049_1.csv <br>\n",
    "c_2018_S18500_vals_050_1.csv <br> <br>\n",
    "c_2018_S18506_vals_002to007_1.csv <br>\n",
    "c_2018_S18506_vals_008to015_1.csv <br>\n",
    "c_2018_S18506_vals_016to022_1.csv <br>\n",
    "c_2018_S18506_vals_023to025_1.csv <br>\n",
    "c_2018_S18506_vals_026to030_1.csv <br>\n",
    "c_2018_S18506_vals_031to034_1.csv <br>\n",
    "c_2018_S18506_vals_035to038_1.csv <br>\n",
    "c_2018_S18506_vals_039to047_1.csv <br>\n",
    "c_2018_S18506_vals_048to054_1.csv <br>\n",
    "c_2018_S18506_vals_055to059_1.csv "
   ]
  },
  {
   "cell_type": "markdown",
   "metadata": {},
   "source": [
    "## Dataset_rad"
   ]
  },
  {
   "cell_type": "markdown",
   "metadata": {},
   "source": [
    "## Dataset_XRFmaps\n"
   ]
  },
  {
   "cell_type": "markdown",
   "metadata": {},
   "source": [
    "# Inputs needed for each figure"
   ]
  },
  {
   "cell_type": "markdown",
   "metadata": {},
   "source": [
    "## Figure 1\n",
    "[dataset12] ()\n",
    "> 2015_avg_P020.txt <br> 2015_avg_P415.txt <br> 2015_avg_P600.txt <br> 2015_avg_P750.txt\n",
    "\n",
    "[dataset25] ()\n",
    "> H020_norm_wanted_particles_average_'date'.txt <br> H415_norm_wanted_particles_average_'date'.txt <br> H600_norm_wanted_particles_average_'date'.txt <br> H750_norm_wanted_particles_average_'date'.txt <br> H020oilL4_norm_wanted_particles_average_'date'.txt <br> H750oilL4_norm_wanted_particles_average_'date'.txt <br> "
   ]
  },
  {
   "cell_type": "markdown",
   "metadata": {},
   "source": [
    "## Figure 2\n",
    "\n",
    "[dataset26] ()\n",
    "> NMF_H750fit_3components_'date'_0.pdf\n",
    "\n",
    "[dataset27] ()\n",
    "> NMF_H750fit_com_of_3_'date'_0\n",
    "\n",
    "[dataset28] ()\n",
    "> H750_norm_diff31_of_3_'date'_0.pdf <br> \n",
    "H650_norm_diff31_of_3_'date'_0.pdf <br> \n",
    "H415_norm_diff31_of_3_'date'_0.pdf <br> \n",
    "H020_norm_diff31_of_3_'date'_0.pdf <br> \n",
    "H750oilL4_norm_diff31_of_3_'date'_0.pdf <br> \n",
    "H750oilL4_norm_diff31_of_3_'date'_0.pdf\n",
    "\n",
    "[dataset29] ()\n",
    "> spec_H750_norm_diff31_of_3_'date'_0.pdf <br> \n",
    "spec_H650_norm_diff31_of_3_'date'_0.pdf <br> \n",
    "spec_H415_norm_diff31_of_3_'date'_0.pdf <br> \n",
    "spec_H020_norm_diff31_of_3_'date'_0.pdf <br> \n",
    "\n",
    "> H750_norm_1st_'date'_cursors_um_0 <br>\n",
    "H750_norm_2nd_'date'_cursors_um_0 <br>\n",
    "H750_norm_3rd_'date'_cursors_um_0 <br>\n",
    "H750_norm_4th_'date'_cursors_um_0 <br>\n",
    "H600_norm_1st_'date'_cursors_um_0 <br>\n",
    "H600_norm_2nd_'date'_cursors_um_0 <br>\n",
    "H415_norm_1st_'date'_cursors_um_0 <br>\n",
    "H415_norm_2nd_'date'_cursors_um_0 <br>\n",
    "H020_norm_1st_'date'_cursors_um_0 <br>\n",
    "H020_norm_2nd_'date'_cursors_um_0 <br>\n"
   ]
  },
  {
   "cell_type": "markdown",
   "metadata": {},
   "source": [
    "## Figure 3\n",
    "painting images"
   ]
  },
  {
   "cell_type": "markdown",
   "metadata": {},
   "source": [
    "## Figure 4"
   ]
  },
  {
   "cell_type": "markdown",
   "metadata": {},
   "source": [
    "## Figure 5"
   ]
  },
  {
   "cell_type": "markdown",
   "metadata": {},
   "source": [
    "## Figure SI-1"
   ]
  },
  {
   "cell_type": "markdown",
   "metadata": {},
   "source": [
    "## Figure SI-2"
   ]
  },
  {
   "cell_type": "markdown",
   "metadata": {},
   "source": [
    "## Figure SI-3"
   ]
  },
  {
   "cell_type": "markdown",
   "metadata": {},
   "source": [
    "## Figure SI-4"
   ]
  },
  {
   "cell_type": "markdown",
   "metadata": {},
   "source": [
    "## Figure SI-5"
   ]
  },
  {
   "cell_type": "markdown",
   "metadata": {},
   "source": [
    "## Figure SI-6"
   ]
  },
  {
   "cell_type": "markdown",
   "metadata": {},
   "source": [
    "## Figure SI-7"
   ]
  }
 ],
 "metadata": {
  "kernelspec": {
   "display_name": "Python 3",
   "language": "python",
   "name": "python3"
  },
  "language_info": {
   "codemirror_mode": {
    "name": "ipython",
    "version": 3
   },
   "file_extension": ".py",
   "mimetype": "text/x-python",
   "name": "python",
   "nbconvert_exporter": "python",
   "pygments_lexer": "ipython3",
   "version": "3.6.5"
  }
 },
 "nbformat": 4,
 "nbformat_minor": 2
}
