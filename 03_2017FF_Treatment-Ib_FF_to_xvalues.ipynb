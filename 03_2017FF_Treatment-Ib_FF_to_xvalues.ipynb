{
 "cells": [
  {
   "cell_type": "markdown",
   "metadata": {},
   "source": [
    "# **2017 Full-field Data, Treatment I**\n",
    "***Objective:* prepare full-field XANES spectral cubes from heavy-liquid-separted lazurite for across-sample comparisons**\n",
    "\n",
    "## Treatment Ib:\n",
    "***Objective:* capture the energy axis (ie x-values) from an original full-field (h5) file because during normalization of files in PyMca, the energy axis is lost and replaced with indices**\n",
    "\n",
    "### Program: \n",
    "[Jupyter notebook] (Python 3)\n",
    "\n",
    "### Input: \n",
    "- any raw full-field XANES spectral cube (ie 3D data), type = .h5, [dataset21] ()\n",
    "> 20Vpow_1.h5\n",
    "\n",
    "### Steps:\n",
    "- follow script below\n",
    "\n",
    "### Output:\n",
    "- energy values, type = .csv (tab-delimited), [datasetx] ()\n",
    "> H020_energy_1.csv\n",
    "\n",
    "### Notes:\n",
    "- all comments are made with '##' \n",
    "- aspects that can be changed depending on the sample, etc. are with '#'"
   ]
  },
  {
   "cell_type": "code",
   "execution_count": 2,
   "metadata": {},
   "outputs": [
    {
     "name": "stdout",
     "output_type": "stream",
     "text": [
      "Populating the interactive namespace from numpy and matplotlib\n"
     ]
    }
   ],
   "source": [
    "%pylab inline"
   ]
  },
  {
   "cell_type": "code",
   "execution_count": 3,
   "metadata": {},
   "outputs": [],
   "source": [
    "import tables\n",
    "from scipy import ndimage\n",
    "import skimage.measure\n",
    "import imageio\n",
    "import numpy as np\n",
    "import pandas as pd\n",
    "import os\n",
    "import scipy.misc\n",
    "import matplotlib.pyplot as plt"
   ]
  },
  {
   "cell_type": "code",
   "execution_count": 4,
   "metadata": {},
   "outputs": [],
   "source": [
    "SMALL_SIZE = 14\n",
    "MEDIUM_SIZE = 16\n",
    "BIGGER_SIZE = 20\n",
    "\n",
    "s=100\n",
    "plt.rc('font', size=SMALL_SIZE)          # controls default text sizes\n",
    "plt.rc('axes', titlesize=SMALL_SIZE)     # fontsize of the axes title\n",
    "plt.rc('axes', labelsize=MEDIUM_SIZE)    # fontsize of the x and y labels\n",
    "plt.rc('xtick', labelsize=SMALL_SIZE)    # fontsize of the tick labels\n",
    "plt.rc('ytick', labelsize=SMALL_SIZE)    # fontsize of the tick labels\n",
    "plt.rc('legend', fontsize=SMALL_SIZE)    # legend fontsize\n",
    "plt.rc('figure', titlesize=BIGGER_SIZE)  # fontsize of the figure title"
   ]
  },
  {
   "cell_type": "markdown",
   "metadata": {},
   "source": [
    "Start here for each new file import..."
   ]
  },
  {
   "cell_type": "code",
   "execution_count": 5,
   "metadata": {},
   "outputs": [
    {
     "data": {
      "text/plain": [
       "'C:\\\\Users\\\\Presentatie\\\\Desktop\\\\ALESSA_XANES\\\\01_iPython_notebooks\\\\Manscript_stripped_sheets'"
      ]
     },
     "execution_count": 5,
     "metadata": {},
     "output_type": "execute_result"
    }
   ],
   "source": [
    "pwd"
   ]
  },
  {
   "cell_type": "markdown",
   "metadata": {},
   "source": [
    "Change directory below to where full field files are located..."
   ]
  },
  {
   "cell_type": "code",
   "execution_count": 7,
   "metadata": {},
   "outputs": [
    {
     "name": "stdout",
     "output_type": "stream",
     "text": [
      "C:\\Users\\Presentatie\\Desktop\\ALESSA_XANES\\01_iPython_notebooks\n"
     ]
    }
   ],
   "source": [
    "cd .."
   ]
  },
  {
   "cell_type": "code",
   "execution_count": 8,
   "metadata": {},
   "outputs": [
    {
     "name": "stdout",
     "output_type": "stream",
     "text": [
      "C:\\Users\\Presentatie\\Desktop\\ALESSA_XANES\\07_manuscript\\figures_2019version\\dataset_21\n"
     ]
    }
   ],
   "source": [
    "cd /Users/Presentatie/Desktop/ALESSA_XANES/07_manuscript/figures_2019version/dataset_21/"
   ]
  },
  {
   "cell_type": "code",
   "execution_count": 9,
   "metadata": {},
   "outputs": [],
   "source": [
    "figsize(16, 16)"
   ]
  },
  {
   "cell_type": "code",
   "execution_count": 10,
   "metadata": {},
   "outputs": [],
   "source": [
    "##importing one of the original .h5 files to get the energy axis, does not matter which\n",
    "##pyMCA output loses energy axis after normalization and saves only as indices\n",
    "\n",
    "filename = '20Vpow_1.h5'  ##for room temperature (ie 20 C) sample\n",
    "h5 = tables.open_file(filename)"
   ]
  },
  {
   "cell_type": "code",
   "execution_count": 19,
   "metadata": {},
   "outputs": [],
   "source": [
    "savename = 'H020'"
   ]
  },
  {
   "cell_type": "code",
   "execution_count": 12,
   "metadata": {},
   "outputs": [
    {
     "data": {
      "text/plain": [
       "(140, 1720, 1670)"
      ]
     },
     "execution_count": 12,
     "metadata": {},
     "output_type": "execute_result"
    }
   ],
   "source": [
    "##for all normalized files\n",
    "data = h5.root.Aligned.data[:]\n",
    "data.shape  ##want (energy, spatial 1, spatial 2)"
   ]
  },
  {
   "cell_type": "code",
   "execution_count": 14,
   "metadata": {},
   "outputs": [
    {
     "data": {
      "text/plain": [
       "array([2.46007, 2.46089, 2.46199, 2.463  , 2.464  , 2.465  , 2.466  ,\n",
       "       2.467  , 2.4672 , 2.4674 , 2.4676 , 2.4678 , 2.468  , 2.4682 ,\n",
       "       2.4684 , 2.4686 , 2.4688 , 2.469  , 2.4692 , 2.4694 , 2.4696 ,\n",
       "       2.4698 , 2.47   , 2.4702 , 2.4704 , 2.4706 , 2.4708 , 2.471  ,\n",
       "       2.4712 , 2.4714 , 2.4716 , 2.4718 , 2.472  , 2.4722 , 2.4724 ,\n",
       "       2.4726 , 2.4728 , 2.473  , 2.4732 , 2.4734 , 2.4736 , 2.4738 ,\n",
       "       2.474  , 2.4742 , 2.4744 , 2.4746 , 2.4748 , 2.475  , 2.4752 ,\n",
       "       2.4754 , 2.4756 , 2.4758 , 2.476  , 2.4762 , 2.4764 , 2.4766 ,\n",
       "       2.4768 , 2.477  , 2.4772 , 2.4774 , 2.4776 , 2.4778 , 2.478  ,\n",
       "       2.4782 , 2.4784 , 2.4786 , 2.4788 , 2.479  , 2.4792 , 2.4794 ,\n",
       "       2.4796 , 2.4798 , 2.48   , 2.48031, 2.48061, 2.48091, 2.48123,\n",
       "       2.48154, 2.48185, 2.48215, 2.48246, 2.48277, 2.48308, 2.48339,\n",
       "       2.48369, 2.484  , 2.485  , 2.486  , 2.487  , 2.48799, 2.489  ,\n",
       "       2.49   , 2.491  , 2.492  , 2.493  , 2.49399, 2.495  , 2.496  ,\n",
       "       2.497  , 2.498  , 2.499  , 2.5    , 2.501  , 2.502  , 2.503  ,\n",
       "       2.504  , 2.505  , 2.50599, 2.507  , 2.50799, 2.509  , 2.51   ,\n",
       "       2.51499, 2.51998, 2.52499, 2.53   , 2.535  , 2.54   , 2.545  ,\n",
       "       2.55   , 2.555  , 2.56   , 2.565  , 2.57   , 2.575  , 2.58   ,\n",
       "       2.585  , 2.58999, 2.59499, 2.6    , 2.605  , 2.61   , 2.615  ,\n",
       "       2.62   , 2.625  , 2.63   , 2.635  , 2.64   , 2.645  , 2.65   ],\n",
       "      dtype=float32)"
      ]
     },
     "execution_count": 14,
     "metadata": {},
     "output_type": "execute_result"
    }
   ],
   "source": [
    "x = h5.root.Aligned.energy[:]\n",
    "#x.shape\n",
    "x"
   ]
  },
  {
   "cell_type": "markdown",
   "metadata": {},
   "source": [
    "Change directory below to where you want to save files ..."
   ]
  },
  {
   "cell_type": "code",
   "execution_count": 15,
   "metadata": {},
   "outputs": [
    {
     "data": {
      "text/plain": [
       "'C:\\\\Users\\\\Presentatie\\\\Desktop\\\\ALESSA_XANES\\\\07_manuscript\\\\figures_2019version\\\\dataset_21'"
      ]
     },
     "execution_count": 15,
     "metadata": {},
     "output_type": "execute_result"
    }
   ],
   "source": [
    "pwd"
   ]
  },
  {
   "cell_type": "code",
   "execution_count": 16,
   "metadata": {},
   "outputs": [
    {
     "name": "stdout",
     "output_type": "stream",
     "text": [
      "C:\\Users\\Presentatie\\Desktop\\ALESSA_XANES\\07_manuscript\\figures_2019version\n"
     ]
    }
   ],
   "source": [
    "cd .."
   ]
  },
  {
   "cell_type": "code",
   "execution_count": 17,
   "metadata": {},
   "outputs": [
    {
     "name": "stdout",
     "output_type": "stream",
     "text": [
      "C:\\Users\\Presentatie\\Desktop\\ALESSA_XANES\\07_manuscript\\figures_2019version\\dataset_x\n"
     ]
    }
   ],
   "source": [
    "cd /Users/Presentatie/Desktop/ALESSA_XANES/07_manuscript/figures_2019version/dataset_x/"
   ]
  },
  {
   "cell_type": "code",
   "execution_count": 21,
   "metadata": {},
   "outputs": [],
   "source": [
    "##saving corresponding csv of energy values\n",
    "i = 1\n",
    "while os.path.exists('{}{}{:d}.csv'.format(savename, '_energy_', i)):\n",
    "    i += 1\n",
    "np.savetxt('{}{}{:d}.csv'.format(savename,'_energy_', i), x, delimiter =',')"
   ]
  },
  {
   "cell_type": "markdown",
   "metadata": {},
   "source": [
    "### continue to sheet '04_2017FF_Treatment-II...'"
   ]
  }
 ],
 "metadata": {
  "kernelspec": {
   "display_name": "Python 3",
   "language": "python",
   "name": "python3"
  },
  "language_info": {
   "codemirror_mode": {
    "name": "ipython",
    "version": 3
   },
   "file_extension": ".py",
   "mimetype": "text/x-python",
   "name": "python",
   "nbconvert_exporter": "python",
   "pygments_lexer": "ipython3",
   "version": "3.6.5"
  }
 },
 "nbformat": 4,
 "nbformat_minor": 2
}
